{
 "cells": [
  {
   "cell_type": "code",
   "execution_count": 13,
   "metadata": {},
   "outputs": [
    {
     "data": {
      "text/plain": [
       "student_data = \n"
      ]
     },
     "metadata": {},
     "output_type": "display_data"
    },
    {
     "data": {
      "text/plain": [
       "John, Wikes, 50, USA\n",
       "Peter, Arturo, 43, USA\n",
       "Sorsin, Ericsson, 29, Sweden\n",
       "Sojith, Daga, 23, India, \n",
       "Kalle, Svensson, 28, Sweden"
      ]
     },
     "execution_count": 13,
     "metadata": {},
     "output_type": "execute_result"
    }
   ],
   "source": [
    "val student_data = \"\"\"John, Wikes, 50, USA\n",
    "Peter, Arturo, 43, USA\n",
    "Sorsin, Ericsson, 29, Sweden\n",
    "Sojith, Daga, 23, India, \n",
    "Kalle, Svensson, 28, Sweden \"\"\""
   ]
  },
  {
   "cell_type": "code",
   "execution_count": 14,
   "metadata": {},
   "outputs": [
    {
     "data": {
      "text/plain": [
       "defined class Student\n"
      ]
     },
     "metadata": {},
     "output_type": "display_data"
    }
   ],
   "source": [
    "case class Student (name: String, age: Integer, nationality: String)"
   ]
  },
  {
   "cell_type": "code",
   "execution_count": 22,
   "metadata": {},
   "outputs": [
    {
     "data": {
      "text/plain": [
       "lines = Array(John, Wikes, 50, USA, Peter, Arturo, 43, USA, Sorsin, Ericsson, 29, Sweden, \"Sojith, Daga, 23, India, \", Kalle, Svensson, 28, Sweden)\n"
      ]
     },
     "metadata": {},
     "output_type": "display_data"
    },
    {
     "data": {
      "text/plain": [
       "5"
      ]
     },
     "execution_count": 22,
     "metadata": {},
     "output_type": "execute_result"
    }
   ],
   "source": [
    "val lines = student_data.split(\"\\n\")\n",
    "lines.length"
   ]
  },
  {
   "cell_type": "code",
   "execution_count": 28,
   "metadata": {},
   "outputs": [
    {
     "data": {
      "text/plain": [
       "students = Array(Student(John Wikes,50,USA), Student(Peter Arturo,43,USA), Student(Sorsin Ericsson,29,Sweden), Student(Sojith Daga,23,India), Student(Kalle Svensson,28,Sweden))\n"
      ]
     },
     "metadata": {},
     "output_type": "display_data"
    },
    {
     "data": {
      "text/plain": [
       "lastException: Throwable = null\n"
      ]
     },
     "metadata": {},
     "output_type": "display_data"
    },
    {
     "data": {
      "text/plain": [
       "[Student(John Wikes,50,USA), Student(Peter Arturo,43,USA), Student(Sorsin Ericsson,29,Sweden), Student(Sojith Daga,23,India), Student(Kalle Svensson,28,Sweden)]"
      ]
     },
     "execution_count": 28,
     "metadata": {},
     "output_type": "execute_result"
    }
   ],
   "source": [
    "val students = lines.map(x => new Student(x.split(\", \")(0) + \" \" + x.split(\", \")(1), x.split(\", \")(2).toInt, x.split(\", \")(3)))\n",
    "\n",
    "\n"
   ]
  },
  {
   "cell_type": "code",
   "execution_count": 30,
   "metadata": {},
   "outputs": [
    {
     "data": {
      "text/plain": [
       "5"
      ]
     },
     "execution_count": 30,
     "metadata": {},
     "output_type": "execute_result"
    }
   ],
   "source": [
    "// Get distinct countries \n",
    "\n",
    "students.length\n"
   ]
  },
  {
   "cell_type": "code",
   "execution_count": 34,
   "metadata": {},
   "outputs": [
    {
     "data": {
      "text/plain": [
       "[USA, Sweden, India]"
      ]
     },
     "execution_count": 34,
     "metadata": {},
     "output_type": "execute_result"
    }
   ],
   "source": [
    "// Get list of distinct nationalities \n",
    "\n",
    "students.map(x => x.nationality).distinct\n"
   ]
  },
  {
   "cell_type": "code",
   "execution_count": 39,
   "metadata": {},
   "outputs": [
    {
     "data": {
      "text/plain": [
       "Name: Unknown Error\n",
       "Message: <console>:35: error: could not find implicit value for parameter num: Numeric[Integer]\n",
       "       students.map(x => x.age).sum\n",
       "                                ^\n",
       "\n",
       "StackTrace: "
      ]
     },
     "execution_count": 39,
     "metadata": {},
     "output_type": "execute_result"
    }
   ],
   "source": [
    "// Get average age\n",
    "students.map(x => x.age).apply()\n"
   ]
  },
  {
   "cell_type": "code",
   "execution_count": null,
   "metadata": {
    "collapsed": true
   },
   "outputs": [],
   "source": []
  }
 ],
 "metadata": {
  "kernelspec": {
   "display_name": "Spark - Scala",
   "language": "scala",
   "name": "spark_scala"
  },
  "language_info": {
   "codemirror_mode": "text/x-scala",
   "file_extension": ".scala",
   "mimetype": "text/x-scala",
   "name": "scala",
   "pygments_lexer": "scala",
   "version": "2.11.8"
  }
 },
 "nbformat": 4,
 "nbformat_minor": 2
}

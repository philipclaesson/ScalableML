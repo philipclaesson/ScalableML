{
 "cells": [
  {
   "cell_type": "code",
   "execution_count": 1,
   "metadata": {},
   "outputs": [
    {
     "data": {
      "text/plain": [
       "student_data = \n"
      ]
     },
     "metadata": {},
     "output_type": "display_data"
    },
    {
     "data": {
      "text/plain": [
       "\"\n",
       "Kalle, Svensson, 28, Sweden\"\n"
      ]
     },
     "metadata": {},
     "output_type": "display_data"
    },
    {
     "data": {
      "text/plain": [
       "\n",
       "John, Wikes, 50, USA\n",
       "Peter, Arturo, 43, USA\n",
       "Sorsin, Ericsson, 29, Sweden\n",
       "Sojith, Daga, 23, India, \n",
       "Kalle, Svensson, 28, Sweden"
      ]
     },
     "execution_count": 1,
     "metadata": {},
     "output_type": "execute_result"
    }
   ],
   "source": [
    "val student_data = \"\"\"\n",
    "John, Wikes, 50, USA\n",
    "Peter, Arturo, 43, USA\n",
    "Sorsin, Ericsson, 29, Sweden\n",
    "Sojith, Daga, 23, India, \n",
    "Kalle, Svensson, 28, Sweden\"\"\""
   ]
  },
  {
   "cell_type": "code",
   "execution_count": null,
   "metadata": {
    "collapsed": true
   },
   "outputs": [],
   "source": []
  }
 ],
 "metadata": {
  "kernelspec": {
   "display_name": "Spark - Scala",
   "language": "scala",
   "name": "spark_scala"
  },
  "language_info": {
   "codemirror_mode": "text/x-scala",
   "file_extension": ".scala",
   "mimetype": "text/x-scala",
   "name": "scala",
   "pygments_lexer": "scala",
   "version": "2.11.8"
  }
 },
 "nbformat": 4,
 "nbformat_minor": 2
}
